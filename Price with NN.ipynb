{
 "cells": [
  {
   "cell_type": "code",
   "execution_count": 1,
   "id": "cbd048c6-641b-4c9c-a03d-69963eaeeb33",
   "metadata": {
    "tags": []
   },
   "outputs": [],
   "source": [
    "import pandas as pd\n",
    "import numpy as np\n",
    "import seaborn as sns\n",
    "sns.set()\n",
    "\n",
    "import pandas as pd\n",
    "from sklearn.feature_selection import SelectKBest, f_regression, RFE, SelectFromModel\n",
    "from sklearn.linear_model import Lasso, LinearRegression\n",
    "from sklearn.ensemble import RandomForestRegressor"
   ]
  },
  {
   "cell_type": "code",
   "execution_count": 2,
   "id": "bd12a766-376e-429a-8bf9-4d0f140af8da",
   "metadata": {
    "tags": []
   },
   "outputs": [
    {
     "data": {
      "text/html": [
       "<div>\n",
       "<style scoped>\n",
       "    .dataframe tbody tr th:only-of-type {\n",
       "        vertical-align: middle;\n",
       "    }\n",
       "\n",
       "    .dataframe tbody tr th {\n",
       "        vertical-align: top;\n",
       "    }\n",
       "\n",
       "    .dataframe thead th {\n",
       "        text-align: right;\n",
       "    }\n",
       "</style>\n",
       "<table border=\"1\" class=\"dataframe\">\n",
       "  <thead>\n",
       "    <tr style=\"text-align: right;\">\n",
       "      <th></th>\n",
       "      <th>car_id</th>\n",
       "      <th>price</th>\n",
       "      <th>fuel type</th>\n",
       "      <th>gear type</th>\n",
       "      <th>Make</th>\n",
       "      <th>Model</th>\n",
       "      <th>Year of manufacture</th>\n",
       "      <th>Colour</th>\n",
       "      <th>Condition</th>\n",
       "      <th>Mileage</th>\n",
       "      <th>Engine Size</th>\n",
       "      <th>Selling Condition</th>\n",
       "      <th>Bought Condition</th>\n",
       "      <th>car</th>\n",
       "      <th>Trim</th>\n",
       "      <th>Drivetrain</th>\n",
       "      <th>Seats</th>\n",
       "      <th>Number of Cylinders</th>\n",
       "      <th>Horse Power</th>\n",
       "      <th>Registered city</th>\n",
       "    </tr>\n",
       "  </thead>\n",
       "  <tbody>\n",
       "    <tr>\n",
       "      <th>0</th>\n",
       "      <td>icwAaDOmX573WiRRnLFPT237</td>\n",
       "      <td>2812500</td>\n",
       "      <td>Petrol</td>\n",
       "      <td>Automatic</td>\n",
       "      <td>Toyota</td>\n",
       "      <td>Corolla</td>\n",
       "      <td>2004</td>\n",
       "      <td>Silver</td>\n",
       "      <td>Nigerian Used</td>\n",
       "      <td>251732.0</td>\n",
       "      <td>1800.0</td>\n",
       "      <td>Registered</td>\n",
       "      <td>Registered</td>\n",
       "      <td>NaN</td>\n",
       "      <td>NaN</td>\n",
       "      <td>NaN</td>\n",
       "      <td>NaN</td>\n",
       "      <td>NaN</td>\n",
       "      <td>NaN</td>\n",
       "      <td>NaN</td>\n",
       "    </tr>\n",
       "    <tr>\n",
       "      <th>1</th>\n",
       "      <td>ByZ3NlPy2x0arAIyrKazClUS</td>\n",
       "      <td>5000000</td>\n",
       "      <td>Petrol</td>\n",
       "      <td>Automatic</td>\n",
       "      <td>Acura</td>\n",
       "      <td>MDX</td>\n",
       "      <td>2007</td>\n",
       "      <td>Green</td>\n",
       "      <td>Foreign Used</td>\n",
       "      <td>224589.0</td>\n",
       "      <td>3700.0</td>\n",
       "      <td>Imported</td>\n",
       "      <td>Imported</td>\n",
       "      <td>SUV</td>\n",
       "      <td>NaN</td>\n",
       "      <td>NaN</td>\n",
       "      <td>NaN</td>\n",
       "      <td>NaN</td>\n",
       "      <td>NaN</td>\n",
       "      <td>NaN</td>\n",
       "    </tr>\n",
       "    <tr>\n",
       "      <th>2</th>\n",
       "      <td>2zG6Mh3kwyoTvWoeKHkV1oFH</td>\n",
       "      <td>7592000</td>\n",
       "      <td>Petrol</td>\n",
       "      <td>Automatic</td>\n",
       "      <td>Acura</td>\n",
       "      <td>TL</td>\n",
       "      <td>2012</td>\n",
       "      <td>White</td>\n",
       "      <td>Foreign Used</td>\n",
       "      <td>111334.0</td>\n",
       "      <td>3500.0</td>\n",
       "      <td>Imported</td>\n",
       "      <td>Imported</td>\n",
       "      <td>Sedan</td>\n",
       "      <td>SH-AWD Automatic Tech Package</td>\n",
       "      <td>All Wheel</td>\n",
       "      <td>5.0</td>\n",
       "      <td>6.0</td>\n",
       "      <td>309.0</td>\n",
       "      <td>NaN</td>\n",
       "    </tr>\n",
       "    <tr>\n",
       "      <th>3</th>\n",
       "      <td>7APLHOPlI93qsYK0ST4D4wB2</td>\n",
       "      <td>9880000</td>\n",
       "      <td>Petrol</td>\n",
       "      <td>Automatic</td>\n",
       "      <td>Land Rover</td>\n",
       "      <td>Range Rover</td>\n",
       "      <td>2012</td>\n",
       "      <td>Gray</td>\n",
       "      <td>Nigerian Used</td>\n",
       "      <td>72682.0</td>\n",
       "      <td>4000.0</td>\n",
       "      <td>Registered</td>\n",
       "      <td>Imported</td>\n",
       "      <td>SUV</td>\n",
       "      <td>NaN</td>\n",
       "      <td>NaN</td>\n",
       "      <td>NaN</td>\n",
       "      <td>NaN</td>\n",
       "      <td>NaN</td>\n",
       "      <td>NaN</td>\n",
       "    </tr>\n",
       "    <tr>\n",
       "      <th>4</th>\n",
       "      <td>zIrIDPJLd46eRQf9JFacc0e</td>\n",
       "      <td>4160000</td>\n",
       "      <td>Petrol</td>\n",
       "      <td>Automatic</td>\n",
       "      <td>Ford</td>\n",
       "      <td>Edge</td>\n",
       "      <td>2013</td>\n",
       "      <td>Gray</td>\n",
       "      <td>Nigerian Used</td>\n",
       "      <td>92118.0</td>\n",
       "      <td>3500.0</td>\n",
       "      <td>Registered</td>\n",
       "      <td>Registered</td>\n",
       "      <td>SUV</td>\n",
       "      <td>NaN</td>\n",
       "      <td>NaN</td>\n",
       "      <td>NaN</td>\n",
       "      <td>NaN</td>\n",
       "      <td>NaN</td>\n",
       "      <td>Lagos</td>\n",
       "    </tr>\n",
       "  </tbody>\n",
       "</table>\n",
       "</div>"
      ],
      "text/plain": [
       "                     car_id    price fuel type  gear type        Make  \\\n",
       "0  icwAaDOmX573WiRRnLFPT237  2812500    Petrol  Automatic      Toyota   \n",
       "1  ByZ3NlPy2x0arAIyrKazClUS  5000000    Petrol  Automatic       Acura   \n",
       "2  2zG6Mh3kwyoTvWoeKHkV1oFH  7592000    Petrol  Automatic       Acura   \n",
       "3  7APLHOPlI93qsYK0ST4D4wB2  9880000    Petrol  Automatic  Land Rover   \n",
       "4   zIrIDPJLd46eRQf9JFacc0e  4160000    Petrol  Automatic        Ford   \n",
       "\n",
       "         Model  Year of manufacture  Colour      Condition   Mileage  \\\n",
       "0      Corolla                 2004  Silver  Nigerian Used  251732.0   \n",
       "1          MDX                 2007   Green   Foreign Used  224589.0   \n",
       "2           TL                 2012   White   Foreign Used  111334.0   \n",
       "3  Range Rover                 2012    Gray  Nigerian Used   72682.0   \n",
       "4         Edge                 2013    Gray  Nigerian Used   92118.0   \n",
       "\n",
       "   Engine Size Selling Condition Bought Condition    car  \\\n",
       "0       1800.0        Registered       Registered    NaN   \n",
       "1       3700.0          Imported         Imported    SUV   \n",
       "2       3500.0          Imported         Imported  Sedan   \n",
       "3       4000.0        Registered         Imported    SUV   \n",
       "4       3500.0        Registered       Registered    SUV   \n",
       "\n",
       "                            Trim Drivetrain  Seats  Number of Cylinders  \\\n",
       "0                            NaN        NaN    NaN                  NaN   \n",
       "1                            NaN        NaN    NaN                  NaN   \n",
       "2  SH-AWD Automatic Tech Package  All Wheel    5.0                  6.0   \n",
       "3                            NaN        NaN    NaN                  NaN   \n",
       "4                            NaN        NaN    NaN                  NaN   \n",
       "\n",
       "   Horse Power Registered city  \n",
       "0          NaN             NaN  \n",
       "1          NaN             NaN  \n",
       "2        309.0             NaN  \n",
       "3          NaN             NaN  \n",
       "4          NaN           Lagos  "
      ]
     },
     "execution_count": 2,
     "metadata": {},
     "output_type": "execute_result"
    }
   ],
   "source": [
    "data = pd.read_csv('car_prices.csv')\n",
    "data.head()"
   ]
  },
  {
   "cell_type": "code",
   "execution_count": 3,
   "id": "981d601a-a289-418a-ae39-98585426b252",
   "metadata": {
    "tags": []
   },
   "outputs": [
    {
     "data": {
      "text/plain": [
       "car_id                    0\n",
       "price                     0\n",
       "fuel type                 1\n",
       "gear type                 2\n",
       "Make                      0\n",
       "Model                     0\n",
       "Year of manufacture       0\n",
       "Colour                    5\n",
       "Condition                 0\n",
       "Mileage                  59\n",
       "Engine Size              61\n",
       "Selling Condition         0\n",
       "Bought Condition          0\n",
       "car                    1955\n",
       "Trim                   2843\n",
       "Drivetrain             2884\n",
       "Seats                  2934\n",
       "Number of Cylinders    2896\n",
       "Horse Power            2967\n",
       "Registered city        1821\n",
       "dtype: int64"
      ]
     },
     "execution_count": 3,
     "metadata": {},
     "output_type": "execute_result"
    }
   ],
   "source": [
    "data.isna().sum()"
   ]
  },
  {
   "cell_type": "code",
   "execution_count": 4,
   "id": "1a89d357-bbdb-42da-9b0f-ce41c512ee61",
   "metadata": {
    "tags": []
   },
   "outputs": [
    {
     "name": "stdout",
     "output_type": "stream",
     "text": [
      "car_id : 3120\n",
      "price : 516\n",
      "fuel type : 5\n",
      "gear type : 4\n",
      "Make : 50\n",
      "Model : 325\n",
      "Year of manufacture : 31\n",
      "Colour : 19\n",
      "Condition : 3\n",
      "Mileage : 3032\n",
      "Engine Size : 70\n",
      "Selling Condition : 3\n",
      "Bought Condition : 3\n",
      "car : 16\n",
      "Trim : 389\n",
      "Drivetrain : 7\n",
      "Seats : 7\n",
      "Number of Cylinders : 5\n",
      "Horse Power : 162\n",
      "Registered city : 72\n"
     ]
    }
   ],
   "source": [
    "for col in data.columns:\n",
    "    print(f'{col} : {len(data[col].unique())}')"
   ]
  },
  {
   "cell_type": "code",
   "execution_count": 5,
   "id": "cdcf433c-368b-46e6-b6d7-a6a76d25d953",
   "metadata": {
    "tags": []
   },
   "outputs": [
    {
     "data": {
      "text/plain": [
       "array([nan, 'All Wheel', 'Rear Wheel', 'Front', 'Front Wheel', '4x4',\n",
       "       '4x2'], dtype=object)"
      ]
     },
     "execution_count": 5,
     "metadata": {},
     "output_type": "execute_result"
    }
   ],
   "source": [
    "data['Drivetrain'].unique()"
   ]
  },
  {
   "cell_type": "code",
   "execution_count": 6,
   "id": "1292d005-de34-49ef-91d5-8152787d2979",
   "metadata": {
    "tags": []
   },
   "outputs": [],
   "source": [
    "for col in data[['fuel type', 'gear type', 'Drivetrain']].columns:\n",
    "    unique_values = data[col].unique()\n",
    "    data[col].fillna(unique_values[0], inplace=True)          "
   ]
  },
  {
   "cell_type": "code",
   "execution_count": 7,
   "id": "c65e7810-fd31-49fa-8150-cc24b1bbad6b",
   "metadata": {
    "tags": []
   },
   "outputs": [],
   "source": [
    "data['Drivetrain'].fillna('All Wheel', inplace=True)  "
   ]
  },
  {
   "cell_type": "code",
   "execution_count": 8,
   "id": "9bcabc45-5b6a-4ae3-aa66-927659fa9b1f",
   "metadata": {
    "tags": []
   },
   "outputs": [],
   "source": [
    "data['Seats'].fillna(np.round(data['Seats'].mean()), inplace=True)"
   ]
  },
  {
   "cell_type": "code",
   "execution_count": 9,
   "id": "fd0b4704-667a-4571-be56-b3d08ba11bf2",
   "metadata": {
    "tags": []
   },
   "outputs": [],
   "source": [
    "data['Number of Cylinders'].fillna(5.0, inplace=True)"
   ]
  },
  {
   "cell_type": "code",
   "execution_count": 10,
   "id": "be2c42cf-190e-45eb-a6bd-78754fe0d4b9",
   "metadata": {
    "tags": []
   },
   "outputs": [],
   "source": [
    "data['car'].fillna('Others', inplace=True)"
   ]
  },
  {
   "cell_type": "code",
   "execution_count": 11,
   "id": "de9fb549-b932-40a3-95b9-21cae3bf4009",
   "metadata": {
    "tags": []
   },
   "outputs": [],
   "source": [
    "data['Colour'].fillna('Others', inplace=True)"
   ]
  },
  {
   "cell_type": "code",
   "execution_count": 12,
   "id": "a7815dc3-bdcf-40eb-9c73-40bdc6af04ee",
   "metadata": {
    "tags": []
   },
   "outputs": [],
   "source": [
    "data['Engine Size'].fillna(round(data['Engine Size'].mean()), inplace=True)"
   ]
  },
  {
   "cell_type": "code",
   "execution_count": 13,
   "id": "ee2406ba-9a31-47fc-8b3f-1d26c3477d1f",
   "metadata": {
    "tags": []
   },
   "outputs": [],
   "source": [
    "data['Horse Power'].fillna(np.round(data['Horse Power'].mean()), inplace=True)"
   ]
  },
  {
   "cell_type": "code",
   "execution_count": 14,
   "id": "2811da8c-ecdf-4af3-8776-7d46f23a0309",
   "metadata": {
    "tags": []
   },
   "outputs": [],
   "source": [
    "data['Mileage'].fillna(np.round(data['Mileage'].mean()), inplace=True)"
   ]
  },
  {
   "cell_type": "code",
   "execution_count": 15,
   "id": "4462abeb-48b6-41fa-8403-c1d77a3936d8",
   "metadata": {
    "scrolled": true,
    "tags": []
   },
   "outputs": [],
   "source": [
    "data.drop(['car_id', 'Trim', 'Registered city', 'Model'], axis=1, inplace=True)"
   ]
  },
  {
   "cell_type": "code",
   "execution_count": 16,
   "id": "4a41ca25-a99f-49cc-98e0-aed4233190d1",
   "metadata": {
    "tags": []
   },
   "outputs": [
    {
     "data": {
      "text/plain": [
       "price                  0\n",
       "fuel type              0\n",
       "gear type              0\n",
       "Make                   0\n",
       "Year of manufacture    0\n",
       "Colour                 0\n",
       "Condition              0\n",
       "Mileage                0\n",
       "Engine Size            0\n",
       "Selling Condition      0\n",
       "Bought Condition       0\n",
       "car                    0\n",
       "Drivetrain             0\n",
       "Seats                  0\n",
       "Number of Cylinders    0\n",
       "Horse Power            0\n",
       "dtype: int64"
      ]
     },
     "execution_count": 16,
     "metadata": {},
     "output_type": "execute_result"
    }
   ],
   "source": [
    "data.isna().sum()"
   ]
  },
  {
   "cell_type": "code",
   "execution_count": 17,
   "id": "f5035998-f986-4eda-8361-237376d8eae3",
   "metadata": {
    "tags": []
   },
   "outputs": [
    {
     "data": {
      "text/html": [
       "<div>\n",
       "<style scoped>\n",
       "    .dataframe tbody tr th:only-of-type {\n",
       "        vertical-align: middle;\n",
       "    }\n",
       "\n",
       "    .dataframe tbody tr th {\n",
       "        vertical-align: top;\n",
       "    }\n",
       "\n",
       "    .dataframe thead th {\n",
       "        text-align: right;\n",
       "    }\n",
       "</style>\n",
       "<table border=\"1\" class=\"dataframe\">\n",
       "  <thead>\n",
       "    <tr style=\"text-align: right;\">\n",
       "      <th></th>\n",
       "      <th>price</th>\n",
       "      <th>fuel type</th>\n",
       "      <th>gear type</th>\n",
       "      <th>Make</th>\n",
       "      <th>Year of manufacture</th>\n",
       "      <th>Colour</th>\n",
       "      <th>Condition</th>\n",
       "      <th>Mileage</th>\n",
       "      <th>Engine Size</th>\n",
       "      <th>Selling Condition</th>\n",
       "      <th>Bought Condition</th>\n",
       "      <th>car</th>\n",
       "      <th>Drivetrain</th>\n",
       "      <th>Seats</th>\n",
       "      <th>Number of Cylinders</th>\n",
       "      <th>Horse Power</th>\n",
       "    </tr>\n",
       "  </thead>\n",
       "  <tbody>\n",
       "    <tr>\n",
       "      <th>0</th>\n",
       "      <td>2812500</td>\n",
       "      <td>Petrol</td>\n",
       "      <td>Automatic</td>\n",
       "      <td>Toyota</td>\n",
       "      <td>2004</td>\n",
       "      <td>Silver</td>\n",
       "      <td>Nigerian Used</td>\n",
       "      <td>251732.0</td>\n",
       "      <td>1800.0</td>\n",
       "      <td>Registered</td>\n",
       "      <td>Registered</td>\n",
       "      <td>Others</td>\n",
       "      <td>All Wheel</td>\n",
       "      <td>5.0</td>\n",
       "      <td>5.0</td>\n",
       "      <td>209.0</td>\n",
       "    </tr>\n",
       "    <tr>\n",
       "      <th>1</th>\n",
       "      <td>5000000</td>\n",
       "      <td>Petrol</td>\n",
       "      <td>Automatic</td>\n",
       "      <td>Acura</td>\n",
       "      <td>2007</td>\n",
       "      <td>Green</td>\n",
       "      <td>Foreign Used</td>\n",
       "      <td>224589.0</td>\n",
       "      <td>3700.0</td>\n",
       "      <td>Imported</td>\n",
       "      <td>Imported</td>\n",
       "      <td>SUV</td>\n",
       "      <td>All Wheel</td>\n",
       "      <td>5.0</td>\n",
       "      <td>5.0</td>\n",
       "      <td>209.0</td>\n",
       "    </tr>\n",
       "    <tr>\n",
       "      <th>2</th>\n",
       "      <td>7592000</td>\n",
       "      <td>Petrol</td>\n",
       "      <td>Automatic</td>\n",
       "      <td>Acura</td>\n",
       "      <td>2012</td>\n",
       "      <td>White</td>\n",
       "      <td>Foreign Used</td>\n",
       "      <td>111334.0</td>\n",
       "      <td>3500.0</td>\n",
       "      <td>Imported</td>\n",
       "      <td>Imported</td>\n",
       "      <td>Sedan</td>\n",
       "      <td>All Wheel</td>\n",
       "      <td>5.0</td>\n",
       "      <td>6.0</td>\n",
       "      <td>309.0</td>\n",
       "    </tr>\n",
       "    <tr>\n",
       "      <th>3</th>\n",
       "      <td>9880000</td>\n",
       "      <td>Petrol</td>\n",
       "      <td>Automatic</td>\n",
       "      <td>Land Rover</td>\n",
       "      <td>2012</td>\n",
       "      <td>Gray</td>\n",
       "      <td>Nigerian Used</td>\n",
       "      <td>72682.0</td>\n",
       "      <td>4000.0</td>\n",
       "      <td>Registered</td>\n",
       "      <td>Imported</td>\n",
       "      <td>SUV</td>\n",
       "      <td>All Wheel</td>\n",
       "      <td>5.0</td>\n",
       "      <td>5.0</td>\n",
       "      <td>209.0</td>\n",
       "    </tr>\n",
       "    <tr>\n",
       "      <th>4</th>\n",
       "      <td>4160000</td>\n",
       "      <td>Petrol</td>\n",
       "      <td>Automatic</td>\n",
       "      <td>Ford</td>\n",
       "      <td>2013</td>\n",
       "      <td>Gray</td>\n",
       "      <td>Nigerian Used</td>\n",
       "      <td>92118.0</td>\n",
       "      <td>3500.0</td>\n",
       "      <td>Registered</td>\n",
       "      <td>Registered</td>\n",
       "      <td>SUV</td>\n",
       "      <td>All Wheel</td>\n",
       "      <td>5.0</td>\n",
       "      <td>5.0</td>\n",
       "      <td>209.0</td>\n",
       "    </tr>\n",
       "  </tbody>\n",
       "</table>\n",
       "</div>"
      ],
      "text/plain": [
       "     price fuel type  gear type        Make  Year of manufacture  Colour  \\\n",
       "0  2812500    Petrol  Automatic      Toyota                 2004  Silver   \n",
       "1  5000000    Petrol  Automatic       Acura                 2007   Green   \n",
       "2  7592000    Petrol  Automatic       Acura                 2012   White   \n",
       "3  9880000    Petrol  Automatic  Land Rover                 2012    Gray   \n",
       "4  4160000    Petrol  Automatic        Ford                 2013    Gray   \n",
       "\n",
       "       Condition   Mileage  Engine Size Selling Condition Bought Condition  \\\n",
       "0  Nigerian Used  251732.0       1800.0        Registered       Registered   \n",
       "1   Foreign Used  224589.0       3700.0          Imported         Imported   \n",
       "2   Foreign Used  111334.0       3500.0          Imported         Imported   \n",
       "3  Nigerian Used   72682.0       4000.0        Registered         Imported   \n",
       "4  Nigerian Used   92118.0       3500.0        Registered       Registered   \n",
       "\n",
       "      car Drivetrain  Seats  Number of Cylinders  Horse Power  \n",
       "0  Others  All Wheel    5.0                  5.0        209.0  \n",
       "1     SUV  All Wheel    5.0                  5.0        209.0  \n",
       "2   Sedan  All Wheel    5.0                  6.0        309.0  \n",
       "3     SUV  All Wheel    5.0                  5.0        209.0  \n",
       "4     SUV  All Wheel    5.0                  5.0        209.0  "
      ]
     },
     "execution_count": 17,
     "metadata": {},
     "output_type": "execute_result"
    }
   ],
   "source": [
    "data.head()"
   ]
  },
  {
   "cell_type": "code",
   "execution_count": 18,
   "id": "f4c9a31c-5472-4714-b334-53eb9713ba35",
   "metadata": {
    "tags": []
   },
   "outputs": [],
   "source": [
    "from sklearn.preprocessing import LabelEncoder\n",
    "\n",
    "le = LabelEncoder()"
   ]
  },
  {
   "cell_type": "code",
   "execution_count": 19,
   "id": "893502f2-3f50-418e-a718-185f265a5917",
   "metadata": {
    "tags": []
   },
   "outputs": [],
   "source": [
    "col_to_use = ['fuel type', 'gear type', 'Make', 'Colour', 'car', 'Condition', 'Selling Condition', 'Bought Condition', 'Drivetrain']\n",
    "\n",
    "for col in data[col_to_use]:\n",
    "    data[col] = le.fit_transform(data[col])"
   ]
  },
  {
   "cell_type": "code",
   "execution_count": 43,
   "id": "ab5a4fe3-e08a-4fe1-a30f-386e17f35381",
   "metadata": {
    "tags": []
   },
   "outputs": [
    {
     "data": {
      "text/html": [
       "<div>\n",
       "<style scoped>\n",
       "    .dataframe tbody tr th:only-of-type {\n",
       "        vertical-align: middle;\n",
       "    }\n",
       "\n",
       "    .dataframe tbody tr th {\n",
       "        vertical-align: top;\n",
       "    }\n",
       "\n",
       "    .dataframe thead th {\n",
       "        text-align: right;\n",
       "    }\n",
       "</style>\n",
       "<table border=\"1\" class=\"dataframe\">\n",
       "  <thead>\n",
       "    <tr style=\"text-align: right;\">\n",
       "      <th></th>\n",
       "      <th>price</th>\n",
       "      <th>fuel type</th>\n",
       "      <th>gear type</th>\n",
       "      <th>Make</th>\n",
       "      <th>Colour</th>\n",
       "      <th>Condition</th>\n",
       "      <th>Mileage</th>\n",
       "      <th>Engine Size</th>\n",
       "      <th>Selling Condition</th>\n",
       "      <th>Bought Condition</th>\n",
       "      <th>car</th>\n",
       "      <th>Drivetrain</th>\n",
       "      <th>Seats</th>\n",
       "      <th>Number of Cylinders</th>\n",
       "      <th>Horse Power</th>\n",
       "      <th>Years</th>\n",
       "    </tr>\n",
       "  </thead>\n",
       "  <tbody>\n",
       "    <tr>\n",
       "      <th>0</th>\n",
       "      <td>-0.396123</td>\n",
       "      <td>0.102294</td>\n",
       "      <td>-0.254403</td>\n",
       "      <td>0.988456</td>\n",
       "      <td>1.358159</td>\n",
       "      <td>0.567560</td>\n",
       "      <td>0.409837</td>\n",
       "      <td>-0.085761</td>\n",
       "      <td>0.567560</td>\n",
       "      <td>1.057181</td>\n",
       "      <td>-0.638435</td>\n",
       "      <td>-0.372973</td>\n",
       "      <td>-0.156471</td>\n",
       "      <td>-0.061263</td>\n",
       "      <td>0.001068</td>\n",
       "      <td>0.985786</td>\n",
       "    </tr>\n",
       "    <tr>\n",
       "      <th>1</th>\n",
       "      <td>0.112952</td>\n",
       "      <td>0.102294</td>\n",
       "      <td>-0.254403</td>\n",
       "      <td>-2.117384</td>\n",
       "      <td>0.008161</td>\n",
       "      <td>-1.751274</td>\n",
       "      <td>0.213808</td>\n",
       "      <td>-0.068204</td>\n",
       "      <td>-1.751274</td>\n",
       "      <td>-0.740365</td>\n",
       "      <td>0.713502</td>\n",
       "      <td>-0.372973</td>\n",
       "      <td>-0.156471</td>\n",
       "      <td>-0.061263</td>\n",
       "      <td>0.001068</td>\n",
       "      <td>0.272463</td>\n",
       "    </tr>\n",
       "    <tr>\n",
       "      <th>2</th>\n",
       "      <td>0.716162</td>\n",
       "      <td>0.102294</td>\n",
       "      <td>-0.254403</td>\n",
       "      <td>-2.117384</td>\n",
       "      <td>1.695658</td>\n",
       "      <td>-1.751274</td>\n",
       "      <td>-0.604127</td>\n",
       "      <td>-0.070052</td>\n",
       "      <td>-1.751274</td>\n",
       "      <td>-0.740365</td>\n",
       "      <td>1.614794</td>\n",
       "      <td>-0.372973</td>\n",
       "      <td>-0.156471</td>\n",
       "      <td>1.692755</td>\n",
       "      <td>3.132525</td>\n",
       "      <td>-0.916408</td>\n",
       "    </tr>\n",
       "    <tr>\n",
       "      <th>3</th>\n",
       "      <td>1.248625</td>\n",
       "      <td>0.102294</td>\n",
       "      <td>-0.254403</td>\n",
       "      <td>-0.597505</td>\n",
       "      <td>-0.160589</td>\n",
       "      <td>0.567560</td>\n",
       "      <td>-0.883274</td>\n",
       "      <td>-0.065431</td>\n",
       "      <td>0.567560</td>\n",
       "      <td>-0.740365</td>\n",
       "      <td>0.713502</td>\n",
       "      <td>-0.372973</td>\n",
       "      <td>-0.156471</td>\n",
       "      <td>-0.061263</td>\n",
       "      <td>0.001068</td>\n",
       "      <td>-0.916408</td>\n",
       "    </tr>\n",
       "    <tr>\n",
       "      <th>4</th>\n",
       "      <td>-0.082533</td>\n",
       "      <td>0.102294</td>\n",
       "      <td>-0.254403</td>\n",
       "      <td>-1.390485</td>\n",
       "      <td>-0.160589</td>\n",
       "      <td>0.567560</td>\n",
       "      <td>-0.742906</td>\n",
       "      <td>-0.070052</td>\n",
       "      <td>0.567560</td>\n",
       "      <td>1.057181</td>\n",
       "      <td>0.713502</td>\n",
       "      <td>-0.372973</td>\n",
       "      <td>-0.156471</td>\n",
       "      <td>-0.061263</td>\n",
       "      <td>0.001068</td>\n",
       "      <td>-1.154183</td>\n",
       "    </tr>\n",
       "  </tbody>\n",
       "</table>\n",
       "</div>"
      ],
      "text/plain": [
       "      price  fuel type  gear type      Make    Colour  Condition   Mileage  \\\n",
       "0 -0.396123   0.102294  -0.254403  0.988456  1.358159   0.567560  0.409837   \n",
       "1  0.112952   0.102294  -0.254403 -2.117384  0.008161  -1.751274  0.213808   \n",
       "2  0.716162   0.102294  -0.254403 -2.117384  1.695658  -1.751274 -0.604127   \n",
       "3  1.248625   0.102294  -0.254403 -0.597505 -0.160589   0.567560 -0.883274   \n",
       "4 -0.082533   0.102294  -0.254403 -1.390485 -0.160589   0.567560 -0.742906   \n",
       "\n",
       "   Engine Size  Selling Condition  Bought Condition       car  Drivetrain  \\\n",
       "0    -0.085761           0.567560          1.057181 -0.638435   -0.372973   \n",
       "1    -0.068204          -1.751274         -0.740365  0.713502   -0.372973   \n",
       "2    -0.070052          -1.751274         -0.740365  1.614794   -0.372973   \n",
       "3    -0.065431           0.567560         -0.740365  0.713502   -0.372973   \n",
       "4    -0.070052           0.567560          1.057181  0.713502   -0.372973   \n",
       "\n",
       "      Seats  Number of Cylinders  Horse Power     Years  \n",
       "0 -0.156471            -0.061263     0.001068  0.985786  \n",
       "1 -0.156471            -0.061263     0.001068  0.272463  \n",
       "2 -0.156471             1.692755     3.132525 -0.916408  \n",
       "3 -0.156471            -0.061263     0.001068 -0.916408  \n",
       "4 -0.156471            -0.061263     0.001068 -1.154183  "
      ]
     },
     "execution_count": 43,
     "metadata": {},
     "output_type": "execute_result"
    }
   ],
   "source": [
    "data.head()"
   ]
  },
  {
   "cell_type": "code",
   "execution_count": 21,
   "id": "5fc37d36-b426-4a6c-924b-a8d674f49c2b",
   "metadata": {
    "tags": []
   },
   "outputs": [
    {
     "data": {
      "text/html": [
       "<div>\n",
       "<style scoped>\n",
       "    .dataframe tbody tr th:only-of-type {\n",
       "        vertical-align: middle;\n",
       "    }\n",
       "\n",
       "    .dataframe tbody tr th {\n",
       "        vertical-align: top;\n",
       "    }\n",
       "\n",
       "    .dataframe thead th {\n",
       "        text-align: right;\n",
       "    }\n",
       "</style>\n",
       "<table border=\"1\" class=\"dataframe\">\n",
       "  <thead>\n",
       "    <tr style=\"text-align: right;\">\n",
       "      <th></th>\n",
       "      <th>price</th>\n",
       "      <th>fuel type</th>\n",
       "      <th>gear type</th>\n",
       "      <th>Make</th>\n",
       "      <th>Colour</th>\n",
       "      <th>Condition</th>\n",
       "      <th>Mileage</th>\n",
       "      <th>Engine Size</th>\n",
       "      <th>Selling Condition</th>\n",
       "      <th>Bought Condition</th>\n",
       "      <th>car</th>\n",
       "      <th>Drivetrain</th>\n",
       "      <th>Seats</th>\n",
       "      <th>Number of Cylinders</th>\n",
       "      <th>Horse Power</th>\n",
       "      <th>Years</th>\n",
       "    </tr>\n",
       "  </thead>\n",
       "  <tbody>\n",
       "    <tr>\n",
       "      <th>0</th>\n",
       "      <td>2812500</td>\n",
       "      <td>3</td>\n",
       "      <td>0</td>\n",
       "      <td>47</td>\n",
       "      <td>15</td>\n",
       "      <td>2</td>\n",
       "      <td>251732.0</td>\n",
       "      <td>1800.0</td>\n",
       "      <td>2</td>\n",
       "      <td>2</td>\n",
       "      <td>7</td>\n",
       "      <td>2</td>\n",
       "      <td>5.0</td>\n",
       "      <td>5.0</td>\n",
       "      <td>209.0</td>\n",
       "      <td>20</td>\n",
       "    </tr>\n",
       "    <tr>\n",
       "      <th>1</th>\n",
       "      <td>5000000</td>\n",
       "      <td>3</td>\n",
       "      <td>0</td>\n",
       "      <td>0</td>\n",
       "      <td>7</td>\n",
       "      <td>1</td>\n",
       "      <td>224589.0</td>\n",
       "      <td>3700.0</td>\n",
       "      <td>1</td>\n",
       "      <td>1</td>\n",
       "      <td>10</td>\n",
       "      <td>2</td>\n",
       "      <td>5.0</td>\n",
       "      <td>5.0</td>\n",
       "      <td>209.0</td>\n",
       "      <td>17</td>\n",
       "    </tr>\n",
       "    <tr>\n",
       "      <th>2</th>\n",
       "      <td>7592000</td>\n",
       "      <td>3</td>\n",
       "      <td>0</td>\n",
       "      <td>0</td>\n",
       "      <td>17</td>\n",
       "      <td>1</td>\n",
       "      <td>111334.0</td>\n",
       "      <td>3500.0</td>\n",
       "      <td>1</td>\n",
       "      <td>1</td>\n",
       "      <td>12</td>\n",
       "      <td>2</td>\n",
       "      <td>5.0</td>\n",
       "      <td>6.0</td>\n",
       "      <td>309.0</td>\n",
       "      <td>12</td>\n",
       "    </tr>\n",
       "    <tr>\n",
       "      <th>3</th>\n",
       "      <td>9880000</td>\n",
       "      <td>3</td>\n",
       "      <td>0</td>\n",
       "      <td>23</td>\n",
       "      <td>6</td>\n",
       "      <td>2</td>\n",
       "      <td>72682.0</td>\n",
       "      <td>4000.0</td>\n",
       "      <td>2</td>\n",
       "      <td>1</td>\n",
       "      <td>10</td>\n",
       "      <td>2</td>\n",
       "      <td>5.0</td>\n",
       "      <td>5.0</td>\n",
       "      <td>209.0</td>\n",
       "      <td>12</td>\n",
       "    </tr>\n",
       "    <tr>\n",
       "      <th>4</th>\n",
       "      <td>4160000</td>\n",
       "      <td>3</td>\n",
       "      <td>0</td>\n",
       "      <td>11</td>\n",
       "      <td>6</td>\n",
       "      <td>2</td>\n",
       "      <td>92118.0</td>\n",
       "      <td>3500.0</td>\n",
       "      <td>2</td>\n",
       "      <td>2</td>\n",
       "      <td>10</td>\n",
       "      <td>2</td>\n",
       "      <td>5.0</td>\n",
       "      <td>5.0</td>\n",
       "      <td>209.0</td>\n",
       "      <td>11</td>\n",
       "    </tr>\n",
       "  </tbody>\n",
       "</table>\n",
       "</div>"
      ],
      "text/plain": [
       "     price  fuel type  gear type  Make  Colour  Condition   Mileage  \\\n",
       "0  2812500          3          0    47      15          2  251732.0   \n",
       "1  5000000          3          0     0       7          1  224589.0   \n",
       "2  7592000          3          0     0      17          1  111334.0   \n",
       "3  9880000          3          0    23       6          2   72682.0   \n",
       "4  4160000          3          0    11       6          2   92118.0   \n",
       "\n",
       "   Engine Size  Selling Condition  Bought Condition  car  Drivetrain  Seats  \\\n",
       "0       1800.0                  2                 2    7           2    5.0   \n",
       "1       3700.0                  1                 1   10           2    5.0   \n",
       "2       3500.0                  1                 1   12           2    5.0   \n",
       "3       4000.0                  2                 1   10           2    5.0   \n",
       "4       3500.0                  2                 2   10           2    5.0   \n",
       "\n",
       "   Number of Cylinders  Horse Power  Years  \n",
       "0                  5.0        209.0     20  \n",
       "1                  5.0        209.0     17  \n",
       "2                  6.0        309.0     12  \n",
       "3                  5.0        209.0     12  \n",
       "4                  5.0        209.0     11  "
      ]
     },
     "execution_count": 21,
     "metadata": {},
     "output_type": "execute_result"
    }
   ],
   "source": [
    "data['Years'] = [2024 - date for date in data['Year of manufacture']]\n",
    "data.drop('Year of manufacture', axis=1, inplace=True)\n",
    "data.head()"
   ]
  },
  {
   "cell_type": "code",
   "execution_count": 22,
   "id": "0322b32d-5be5-481c-8344-7dc8a0855123",
   "metadata": {
    "tags": []
   },
   "outputs": [],
   "source": [
    "data -= data.mean()"
   ]
  },
  {
   "cell_type": "code",
   "execution_count": 23,
   "id": "f9110bda-541c-4a75-b925-323913548e16",
   "metadata": {
    "tags": []
   },
   "outputs": [],
   "source": [
    "data /= data.std(axis=0)"
   ]
  },
  {
   "cell_type": "code",
   "execution_count": 80,
   "id": "9121f2d7-d938-4e8f-83ae-157505a343da",
   "metadata": {
    "tags": []
   },
   "outputs": [],
   "source": [
    "X = data.drop(['price','gear type', 'Make','Number of Cylinders',], axis=1)\n",
    "y = data.price"
   ]
  },
  {
   "cell_type": "code",
   "execution_count": 82,
   "id": "914f59ff-d460-4d15-85b4-c9635915f2e3",
   "metadata": {
    "tags": []
   },
   "outputs": [],
   "source": [
    "train_data = X[:3000]\n",
    "train_label = y[:3000]\n",
    "\n",
    "test_data = X[3000:]\n",
    "test_label = y[3000:]"
   ]
  },
  {
   "cell_type": "code",
   "execution_count": 83,
   "id": "2213aa27-2cee-4752-8330-1fee890b31d8",
   "metadata": {
    "tags": []
   },
   "outputs": [
    {
     "data": {
      "text/plain": [
       "(3000, 12)"
      ]
     },
     "execution_count": 83,
     "metadata": {},
     "output_type": "execute_result"
    }
   ],
   "source": [
    "train_data.shape"
   ]
  },
  {
   "cell_type": "code",
   "execution_count": 81,
   "id": "9bd839c0-af69-469b-b43a-864e7d40ff5c",
   "metadata": {
    "tags": []
   },
   "outputs": [
    {
     "data": {
      "text/plain": [
       "array([ True,  True,  True,  True, False,  True,  True,  True,  True,\n",
       "       False,  True,  True])"
      ]
     },
     "execution_count": 81,
     "metadata": {},
     "output_type": "execute_result"
    }
   ],
   "source": [
    "# Recursive Feature Elimination (RFE)\n",
    "model = LinearRegression()\n",
    "rfe = RFE(model, n_features_to_select=10)\n",
    "X_selected = rfe.fit(X, y)\n",
    "X_selected.support_"
   ]
  },
  {
   "cell_type": "code",
   "execution_count": 84,
   "id": "9d470e90-2dcb-4eeb-bba2-70e0a2dbee93",
   "metadata": {
    "tags": []
   },
   "outputs": [],
   "source": [
    "from keras import models, layers\n",
    "\n",
    "def build_model():\n",
    "    model = models.Sequential()\n",
    "    model.add(layers.Dense(10, activation='relu', input_shape=(X.shape[1],)))\n",
    "    model.add(layers.Dense(10, activation='relu'))\n",
    "    model.add(layers.Dense(5, activation='relu'))\n",
    "    model.add(layers.Dense(1))\n",
    "    \n",
    "    model.compile(optimizer='rmsprop', loss='mse', metrics=['mae'])\n",
    "    return model"
   ]
  },
  {
   "cell_type": "code",
   "execution_count": 85,
   "id": "a48fdb19-5388-4446-8f68-5871cb0e592a",
   "metadata": {
    "tags": []
   },
   "outputs": [
    {
     "name": "stdout",
     "output_type": "stream",
     "text": [
      "Number of val sample 744\n",
      "processing fold # 0\n",
      "processing fold # 1\n",
      "processing fold # 2\n",
      "processing fold # 3\n",
      "processing fold # 4\n"
     ]
    }
   ],
   "source": [
    "num_epochs = 100\n",
    "all_mae_histories = []\n",
    "k = 5\n",
    "num_val_samples = len(data) // k\n",
    "print('Number of val sample', num_val_samples)\n",
    "\n",
    "for i in range(k):\n",
    "    print('processing fold #', i)\n",
    "    val_data = train_data[i * num_val_samples: (i + 1) * num_val_samples]\n",
    "    val_targets = train_label[i * num_val_samples: (i + 1) * num_val_samples]\n",
    "    \n",
    "    partial_train_data = np.concatenate([train_data[:i * num_val_samples], train_data[(i + 1) * num_val_samples:]], axis=0)\n",
    "    partial_train_targets = np.concatenate([train_label[:i * num_val_samples], train_label[(i + 1) * num_val_samples:]], axis=0)\n",
    "\n",
    "    model = build_model()\n",
    "    history = model.fit(partial_train_data, partial_train_targets,\n",
    "                        validation_data=(val_data, val_targets),\n",
    "                        epochs=num_epochs, batch_size=1, verbose=0)\n",
    "    mae_history = history.history['val_mae']\n",
    "    all_mae_histories.append(mae_history)\n",
    "    "
   ]
  },
  {
   "cell_type": "code",
   "execution_count": 86,
   "id": "6225d02e-4319-4f57-a6e9-c4bb8c8d6848",
   "metadata": {
    "tags": []
   },
   "outputs": [
    {
     "data": {
      "image/png": "[encoded data removed]",
      "text/plain": [
       "<Figure size 640x480 with 1 Axes>"
      ]
     },
     "metadata": {},
     "output_type": "display_data"
    }
   ],
   "source": [
    "average_mae_history = [np.mean([x[i] for x in all_mae_histories]) for i in range(num_epochs)]\n",
    "\n",
    "import matplotlib.pyplot as plt\n",
    "import seaborn as sns\n",
    "sns.set()\n",
    "\n",
    "plt.plot(range(1, len(average_mae_history) + 1), average_mae_history)\n",
    "plt.xlabel('Epochs')\n",
    "plt.ylabel('Validation MAE')\n",
    "plt.show()"
   ]
  },
  {
   "cell_type": "code",
   "execution_count": null,
   "id": "b23f587a-cc85-45cd-83db-1c1de63bb4f1",
   "metadata": {},
   "outputs": [],
   "source": []
  }
 ],
 "metadata": {
  "kernelspec": {
   "display_name": "Python 3 (ipykernel)",
   "language": "python",
   "name": "python3"
  },
  "language_info": {
   "codemirror_mode": {
    "name": "ipython",
    "version": 3
   },
   "file_extension": ".py",
   "mimetype": "text/x-python",
   "name": "python",
   "nbconvert_exporter": "python",
   "pygments_lexer": "ipython3",
   "version": "3.11.5"
  }
 },
 "nbformat": 4,
 "nbformat_minor": 5
}
